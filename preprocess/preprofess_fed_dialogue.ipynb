{
 "cells": [
  {
   "cell_type": "code",
   "execution_count": 1,
   "metadata": {},
   "outputs": [
    {
     "name": "stdout",
     "output_type": "stream",
     "text": [
      "--2023-03-19 07:10:15--  http://shikib.com/fed_data.json\n",
      "Resolving shikib.com (shikib.com)... 192.30.252.154, 192.30.252.153\n",
      "Connecting to shikib.com (shikib.com)|192.30.252.154|:80... connected.\n",
      "HTTP request sent, awaiting response... 200 OK\n",
      "Length: 758828 (741K) [application/json]\n",
      "Saving to: ‘fed_data.json’\n",
      "\n",
      "fed_data.json       100%[===================>] 741.04K   683KB/s    in 1.1s    \n",
      "\n",
      "2023-03-19 07:10:17 (683 KB/s) - ‘fed_data.json’ saved [758828/758828]\n",
      "\n"
     ]
    }
   ],
   "source": [
    "!wget http://shikib.com/fed_data.json"
   ]
  },
  {
   "cell_type": "code",
   "execution_count": 5,
   "metadata": {},
   "outputs": [],
   "source": [
    "!mkdir -p ../data/evaluation/fed_dialogue_overall/\n",
    "!mv fed_data.json ../data/evaluation/fed_dialogue_overall/"
   ]
  },
  {
   "cell_type": "code",
   "execution_count": 19,
   "metadata": {},
   "outputs": [],
   "source": [
    "import json\n",
    "\n",
    "with open(\"../data/evaluation/fed_dialogue_overall/fed_data.json\",'r') as f:\n",
    "    data = json.load(f)"
   ]
  },
  {
   "cell_type": "code",
   "execution_count": 20,
   "metadata": {},
   "outputs": [
    {
     "name": "stdout",
     "output_type": "stream",
     "text": [
      "125\n"
     ]
    }
   ],
   "source": [
    "data = [e for e in data if 'response' not in e]\n",
    "print(len(data))"
   ]
  },
  {
   "cell_type": "code",
   "execution_count": 21,
   "metadata": {},
   "outputs": [
    {
     "data": {
      "text/plain": [
       "{'context': \"User: Hi!\\nSystem: Hi! What's up?\\nUser: Nothing much, how about you\\nSystem: Not much either.\\nUser: What are you doing\\nSystem: Playing Terraria. What about you?\\nUser: Sitting in a meeting\\nSystem: What kind of meeting?\\nUser: Can't say\\nSystem: It's probably boring, isn't it?\\nUser: Haha, yes!\\nSystem: What is the meeting about?\\nUser: I cannot tell you\\nSystem: What can you tell me?\\nUser: Nothing much except that the weather is pleasant\",\n",
       " 'system': 'Meena',\n",
       " 'annotations': {'Coherent': [2, 2, 1, 2, 2],\n",
       "  'Error recovery': [\"N/A (The user was too uncooperative to actually test the limits of the system. As the result the system didn't have much to work with in order to even make errors.)\",\n",
       "   1,\n",
       "   1,\n",
       "   'N/A (The conversation contained no errors.)',\n",
       "   2],\n",
       "  'Consistent': [1, 1, 1, 1, 1],\n",
       "  'Diverse': [0, 2, 1, 1, 2],\n",
       "  'Depth': [0, 1, 0, 1, 2],\n",
       "  'Likeable': [1, 1, 0, 2, 2],\n",
       "  'Understanding': [2, 1, 2, 2, 2],\n",
       "  'Flexible': [2, 2, 1, 2, 2],\n",
       "  'Informative': [0, 1, 0, 2, 2],\n",
       "  'Inquisitive': [2, 1, 0, 2, 2],\n",
       "  'Overall': [3, 1, 2, 3, 4]}}"
      ]
     },
     "execution_count": 21,
     "metadata": {},
     "output_type": "execute_result"
    }
   ],
   "source": [
    "data[0]"
   ]
  },
  {
   "cell_type": "code",
   "execution_count": 33,
   "metadata": {},
   "outputs": [],
   "source": [
    "final = []\n",
    "\n",
    "for el in data:\n",
    "    conversations = el['context']\n",
    "    assert conversations.startswith(\"User: \")\n",
    "    conversations = conversations.split(\"\\n\")\n",
    "    assert conversations[-1].startswith(\"User: \")\n",
    "    conversations = [e.replace(\"User: \",\"\").replace(\"System: \",\"\").strip() for e in conversations]\n",
    "\n",
    "    final.append({\"history\":conversations, \"score\":sum(el['annotations']['Overall'])/len(el['annotations']['Overall'])})"
   ]
  },
  {
   "cell_type": "code",
   "execution_count": 35,
   "metadata": {},
   "outputs": [
    {
     "data": {
      "text/plain": [
       "{'history': ['Hi!',\n",
       "  \"Hi! What's up?\",\n",
       "  'Nothing much, how about you',\n",
       "  'Not much either.',\n",
       "  'What are you doing',\n",
       "  'Playing Terraria. What about you?',\n",
       "  'Sitting in a meeting',\n",
       "  'What kind of meeting?',\n",
       "  \"Can't say\",\n",
       "  \"It's probably boring, isn't it?\",\n",
       "  'Haha, yes!',\n",
       "  'What is the meeting about?',\n",
       "  'I cannot tell you',\n",
       "  'What can you tell me?',\n",
       "  'Nothing much except that the weather is pleasant'],\n",
       " 'score': 2.6}"
      ]
     },
     "execution_count": 35,
     "metadata": {},
     "output_type": "execute_result"
    }
   ],
   "source": [
    "final[0]"
   ]
  },
  {
   "cell_type": "code",
   "execution_count": 29,
   "metadata": {},
   "outputs": [],
   "source": [
    "with open(\"../data/evaluation/fed_dialogue_overall/test_processed.json\",'w') as f:\n",
    "    for el in final:\n",
    "        f.write(json.dumps(el)+'\\n')"
   ]
  },
  {
   "cell_type": "code",
   "execution_count": null,
   "metadata": {},
   "outputs": [],
   "source": []
  }
 ],
 "metadata": {
  "kernelspec": {
   "display_name": "Python 3",
   "language": "python",
   "name": "python3"
  },
  "language_info": {
   "codemirror_mode": {
    "name": "ipython",
    "version": 3
   },
   "file_extension": ".py",
   "mimetype": "text/x-python",
   "name": "python",
   "nbconvert_exporter": "python",
   "pygments_lexer": "ipython3",
   "version": "3.8.13"
  },
  "orig_nbformat": 4
 },
 "nbformat": 4,
 "nbformat_minor": 2
}
